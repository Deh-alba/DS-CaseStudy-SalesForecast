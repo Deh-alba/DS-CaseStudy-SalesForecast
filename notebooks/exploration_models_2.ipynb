{
 "cells": [
  {
   "cell_type": "code",
   "execution_count": 1,
   "id": "d6606983-f6f2-4ba0-af88-2d495fa1ee08",
   "metadata": {},
   "outputs": [],
   "source": [
    "import pandas as pd\n",
    "\n",
    "sales_long = pd.read_parquet(\"data/sales_long.parquet\")"
   ]
  },
  {
   "cell_type": "code",
   "execution_count": 2,
   "id": "aa4a1c42-969c-486a-830a-0936266428dd",
   "metadata": {},
   "outputs": [
    {
     "data": {
      "text/html": [
       "<div>\n",
       "<style scoped>\n",
       "    .dataframe tbody tr th:only-of-type {\n",
       "        vertical-align: middle;\n",
       "    }\n",
       "\n",
       "    .dataframe tbody tr th {\n",
       "        vertical-align: top;\n",
       "    }\n",
       "\n",
       "    .dataframe thead th {\n",
       "        text-align: right;\n",
       "    }\n",
       "</style>\n",
       "<table border=\"1\" class=\"dataframe\">\n",
       "  <thead>\n",
       "    <tr style=\"text-align: right;\">\n",
       "      <th></th>\n",
       "      <th>item_id</th>\n",
       "      <th>dept_id</th>\n",
       "      <th>cat_id</th>\n",
       "      <th>store_id</th>\n",
       "      <th>state_id</th>\n",
       "      <th>d</th>\n",
       "      <th>sales</th>\n",
       "      <th>date</th>\n",
       "      <th>wm_yr_wk</th>\n",
       "      <th>weekday</th>\n",
       "      <th>...</th>\n",
       "      <th>is_weekend</th>\n",
       "      <th>is_holiday</th>\n",
       "      <th>lag_7</th>\n",
       "      <th>lag_14</th>\n",
       "      <th>lag_28</th>\n",
       "      <th>rolling_mean_7</th>\n",
       "      <th>rolling_mean_14</th>\n",
       "      <th>rolling_mean_28</th>\n",
       "      <th>price_lag_7</th>\n",
       "      <th>price_change</th>\n",
       "    </tr>\n",
       "  </thead>\n",
       "  <tbody>\n",
       "    <tr>\n",
       "      <th>0</th>\n",
       "      <td>HOBBIES_1_001</td>\n",
       "      <td>HOBBIES_1</td>\n",
       "      <td>HOBBIES</td>\n",
       "      <td>CA_1</td>\n",
       "      <td>CA</td>\n",
       "      <td>d_1</td>\n",
       "      <td>0</td>\n",
       "      <td>2011-01-29</td>\n",
       "      <td>11101</td>\n",
       "      <td>Saturday</td>\n",
       "      <td>...</td>\n",
       "      <td>1</td>\n",
       "      <td>0</td>\n",
       "      <td>0.0</td>\n",
       "      <td>0.0</td>\n",
       "      <td>0.0</td>\n",
       "      <td>0.0</td>\n",
       "      <td>0.0</td>\n",
       "      <td>0.0</td>\n",
       "      <td>8.26</td>\n",
       "      <td>0.0</td>\n",
       "    </tr>\n",
       "    <tr>\n",
       "      <th>1</th>\n",
       "      <td>HOBBIES_1_002</td>\n",
       "      <td>HOBBIES_1</td>\n",
       "      <td>HOBBIES</td>\n",
       "      <td>CA_1</td>\n",
       "      <td>CA</td>\n",
       "      <td>d_1</td>\n",
       "      <td>0</td>\n",
       "      <td>2011-01-29</td>\n",
       "      <td>11101</td>\n",
       "      <td>Saturday</td>\n",
       "      <td>...</td>\n",
       "      <td>1</td>\n",
       "      <td>0</td>\n",
       "      <td>0.0</td>\n",
       "      <td>0.0</td>\n",
       "      <td>0.0</td>\n",
       "      <td>0.0</td>\n",
       "      <td>0.0</td>\n",
       "      <td>0.0</td>\n",
       "      <td>3.97</td>\n",
       "      <td>0.0</td>\n",
       "    </tr>\n",
       "    <tr>\n",
       "      <th>2</th>\n",
       "      <td>HOBBIES_1_003</td>\n",
       "      <td>HOBBIES_1</td>\n",
       "      <td>HOBBIES</td>\n",
       "      <td>CA_1</td>\n",
       "      <td>CA</td>\n",
       "      <td>d_1</td>\n",
       "      <td>0</td>\n",
       "      <td>2011-01-29</td>\n",
       "      <td>11101</td>\n",
       "      <td>Saturday</td>\n",
       "      <td>...</td>\n",
       "      <td>1</td>\n",
       "      <td>0</td>\n",
       "      <td>0.0</td>\n",
       "      <td>0.0</td>\n",
       "      <td>0.0</td>\n",
       "      <td>0.0</td>\n",
       "      <td>0.0</td>\n",
       "      <td>0.0</td>\n",
       "      <td>2.97</td>\n",
       "      <td>0.0</td>\n",
       "    </tr>\n",
       "    <tr>\n",
       "      <th>3</th>\n",
       "      <td>HOBBIES_1_004</td>\n",
       "      <td>HOBBIES_1</td>\n",
       "      <td>HOBBIES</td>\n",
       "      <td>CA_1</td>\n",
       "      <td>CA</td>\n",
       "      <td>d_1</td>\n",
       "      <td>0</td>\n",
       "      <td>2011-01-29</td>\n",
       "      <td>11101</td>\n",
       "      <td>Saturday</td>\n",
       "      <td>...</td>\n",
       "      <td>1</td>\n",
       "      <td>0</td>\n",
       "      <td>0.0</td>\n",
       "      <td>0.0</td>\n",
       "      <td>0.0</td>\n",
       "      <td>0.0</td>\n",
       "      <td>0.0</td>\n",
       "      <td>0.0</td>\n",
       "      <td>4.64</td>\n",
       "      <td>0.0</td>\n",
       "    </tr>\n",
       "    <tr>\n",
       "      <th>4</th>\n",
       "      <td>HOBBIES_1_005</td>\n",
       "      <td>HOBBIES_1</td>\n",
       "      <td>HOBBIES</td>\n",
       "      <td>CA_1</td>\n",
       "      <td>CA</td>\n",
       "      <td>d_1</td>\n",
       "      <td>0</td>\n",
       "      <td>2011-01-29</td>\n",
       "      <td>11101</td>\n",
       "      <td>Saturday</td>\n",
       "      <td>...</td>\n",
       "      <td>1</td>\n",
       "      <td>0</td>\n",
       "      <td>0.0</td>\n",
       "      <td>0.0</td>\n",
       "      <td>0.0</td>\n",
       "      <td>0.0</td>\n",
       "      <td>0.0</td>\n",
       "      <td>0.0</td>\n",
       "      <td>2.98</td>\n",
       "      <td>0.0</td>\n",
       "    </tr>\n",
       "  </tbody>\n",
       "</table>\n",
       "<p>5 rows × 34 columns</p>\n",
       "</div>"
      ],
      "text/plain": [
       "         item_id    dept_id   cat_id store_id state_id    d  sales       date  \\\n",
       "0  HOBBIES_1_001  HOBBIES_1  HOBBIES     CA_1       CA  d_1      0 2011-01-29   \n",
       "1  HOBBIES_1_002  HOBBIES_1  HOBBIES     CA_1       CA  d_1      0 2011-01-29   \n",
       "2  HOBBIES_1_003  HOBBIES_1  HOBBIES     CA_1       CA  d_1      0 2011-01-29   \n",
       "3  HOBBIES_1_004  HOBBIES_1  HOBBIES     CA_1       CA  d_1      0 2011-01-29   \n",
       "4  HOBBIES_1_005  HOBBIES_1  HOBBIES     CA_1       CA  d_1      0 2011-01-29   \n",
       "\n",
       "   wm_yr_wk   weekday  ...  is_weekend  is_holiday  lag_7 lag_14 lag_28  \\\n",
       "0     11101  Saturday  ...           1           0    0.0    0.0    0.0   \n",
       "1     11101  Saturday  ...           1           0    0.0    0.0    0.0   \n",
       "2     11101  Saturday  ...           1           0    0.0    0.0    0.0   \n",
       "3     11101  Saturday  ...           1           0    0.0    0.0    0.0   \n",
       "4     11101  Saturday  ...           1           0    0.0    0.0    0.0   \n",
       "\n",
       "  rolling_mean_7 rolling_mean_14  rolling_mean_28  price_lag_7  price_change  \n",
       "0            0.0             0.0              0.0         8.26           0.0  \n",
       "1            0.0             0.0              0.0         3.97           0.0  \n",
       "2            0.0             0.0              0.0         2.97           0.0  \n",
       "3            0.0             0.0              0.0         4.64           0.0  \n",
       "4            0.0             0.0              0.0         2.98           0.0  \n",
       "\n",
       "[5 rows x 34 columns]"
      ]
     },
     "execution_count": 2,
     "metadata": {},
     "output_type": "execute_result"
    }
   ],
   "source": [
    "sales_long.head()"
   ]
  },
  {
   "cell_type": "code",
   "execution_count": 3,
   "id": "36b8eea5-2af2-4a99-ab2a-cb5968c6ab79",
   "metadata": {},
   "outputs": [],
   "source": [
    "# Select features and target variable\n",
    "features = [\"lag_7\", \"lag_14\", \"lag_28\", \n",
    "            \"rolling_mean_7\", \"rolling_mean_14\", \"rolling_mean_28\", \n",
    "            \"day_of_week\", \"month\", \"is_weekend\", \"is_holiday\",\n",
    "            \"sell_price\", \"price_change\"]\n",
    "\n",
    "X_train = sales_long[sales_long[\"d\"].isin([f\"d_{i}\" for i in range(1, 1914)])][features]\n",
    "y_train = sales_long[sales_long[\"d\"].isin([f\"d_{i}\" for i in range(1, 1914)])][\"sales\"]\n",
    "\n",
    "X_val = sales_long[sales_long[\"d\"].isin([f\"d_{i}\" for i in range(1914, 1942)])][features]\n",
    "y_val = sales_long[sales_long[\"d\"].isin([f\"d_{i}\" for i in range(1914, 1942)])][\"sales\"]\n"
   ]
  },
  {
   "cell_type": "code",
   "execution_count": null,
   "id": "d5a7ecaf-4171-407d-94dc-4c65fccd4def",
   "metadata": {},
   "outputs": [],
   "source": []
  },
  {
   "cell_type": "code",
   "execution_count": 4,
   "id": "d626d382-f8da-41c9-b317-7acb522bcdf4",
   "metadata": {},
   "outputs": [
    {
     "data": {
      "text/plain": [
       "d\n",
       "d_1       30490\n",
       "d_1324    30490\n",
       "d_1322    30490\n",
       "d_1321    30490\n",
       "d_1320    30490\n",
       "          ...  \n",
       "d_653     30490\n",
       "d_652     30490\n",
       "d_651     30490\n",
       "d_650     30490\n",
       "d_1969    30490\n",
       "Name: count, Length: 1969, dtype: int64"
      ]
     },
     "execution_count": 4,
     "metadata": {},
     "output_type": "execute_result"
    }
   ],
   "source": [
    "sales_long[\"d\"].value_counts()"
   ]
  },
  {
   "cell_type": "code",
   "execution_count": 5,
   "id": "b9cd1af4-3f1d-4f58-bd1c-45dc1a12a138",
   "metadata": {},
   "outputs": [
    {
     "name": "stdout",
     "output_type": "stream",
     "text": [
      "Validation MAE: 1.02\n",
      "Validation R² Score: 0.67\n"
     ]
    },
    {
     "name": "stderr",
     "output_type": "stream",
     "text": [
      "/home/andre/.local/lib/python3.12/site-packages/xgboost/core.py:729: UserWarning: [18:58:08] WARNING: /workspace/src/common/error_msg.cc:58: Falling back to prediction using DMatrix due to mismatched devices. This might lead to higher memory usage and slower performance. XGBoost is running on: cuda:0, while the input data is on: cpu.\n",
      "Potential solutions:\n",
      "- Use a data structure that matches the device ordinal in the booster.\n",
      "- Set the device for booster before call to inplace_predict.\n",
      "\n",
      "This warning will only be shown once.\n",
      "\n",
      "  return func(**kwargs)\n"
     ]
    }
   ],
   "source": [
    "from xgboost import XGBRegressor\n",
    "from sklearn.metrics import mean_absolute_error,r2_score\n",
    "\n",
    "# Train an XGBoost model\n",
    "model = XGBRegressor(n_estimators=100, learning_rate=0.1, colsample_bytree=0.5 ,max_depth=10, tree_method=\"hist\", device=\"cuda\", missing=-999)\n",
    "model.fit(X_train, y_train)\n",
    "\n",
    "# Validate the model\n",
    "y_pred = model.predict(X_val)\n",
    "mae = mean_absolute_error(y_val, y_pred)\n",
    "print(f\"Validation MAE: {mae:.2f}\")\n",
    "\n",
    "r2 = r2_score(y_val, y_pred)\n",
    "print(f\"Validation R² Score: {r2:.2f}\")"
   ]
  },
  {
   "cell_type": "markdown",
   "id": "63569b93-e0b5-4f4a-80e1-fbcb07f9e44e",
   "metadata": {},
   "source": [
    "Lets apply shap to underestand the relevance of each feature in the tree"
   ]
  },
  {
   "cell_type": "code",
   "execution_count": 6,
   "id": "d1acd3a6-dde7-4341-a7af-363c0b867bc7",
   "metadata": {},
   "outputs": [
    {
     "name": "stderr",
     "output_type": "stream",
     "text": [
      "100%|===================| 853537/853720 [50:16<00:00]        "
     ]
    },
    {
     "data": {
      "image/png": "[encoded data removed]",
      "text/plain": [
       "<Figure size 800x630 with 2 Axes>"
      ]
     },
     "metadata": {},
     "output_type": "display_data"
    }
   ],
   "source": [
    "import shap\n",
    "\n",
    "# Initialize SHAP Explainer\n",
    "explainer = shap.Explainer(model, X_train)\n",
    "\n",
    "# Compute SHAP values for the validation set\n",
    "shap_values = explainer(X_val)\n",
    "\n",
    "# Visualize Feature Importance\n",
    "shap.summary_plot(shap_values, X_val)\n",
    "\n",
    "\n",
    "\n"
   ]
  },
  {
   "cell_type": "markdown",
   "id": "af956679-1022-4564-baef-eb5eff8f257a",
   "metadata": {},
   "source": [
    "Traing the model with shap cut"
   ]
  },
  {
   "cell_type": "code",
   "execution_count": 7,
   "id": "851f2eb1-e47a-4841-9bc4-77259996875d",
   "metadata": {},
   "outputs": [],
   "source": [
    "# Select features and target variable\n",
    "features = [\"lag_7\", \"rolling_mean_7\", \"rolling_mean_14\", \"rolling_mean_28\", \"day_of_week\", \"sell_price\"]\n",
    "\n",
    "\n",
    "X_train = sales_long[sales_long[\"d\"].isin([f\"d_{i}\" for i in range(1, 1914)])][features]\n",
    "y_train = sales_long[sales_long[\"d\"].isin([f\"d_{i}\" for i in range(1, 1914)])][\"sales\"]\n",
    "\n",
    "X_val = sales_long[sales_long[\"d\"].isin([f\"d_{i}\" for i in range(1914, 1942)])][features]\n",
    "y_val = sales_long[sales_long[\"d\"].isin([f\"d_{i}\" for i in range(1914, 1942)])][\"sales\"]"
   ]
  },
  {
   "cell_type": "code",
   "execution_count": 8,
   "id": "6ee73136-4531-4a2a-bdb2-5afdbd3544a4",
   "metadata": {},
   "outputs": [
    {
     "name": "stdout",
     "output_type": "stream",
     "text": [
      "Validation MAE: 1.03\n",
      "Validation R² Score: 0.67\n"
     ]
    }
   ],
   "source": [
    "\n",
    "model = XGBRegressor(n_estimators=100, learning_rate=0.1, colsample_bytree=0.5 ,max_depth=10, tree_method=\"hist\", device=\"cuda\", missing=-999)\n",
    "model.fit(X_train, y_train)\n",
    "\n",
    "\n",
    "# Validate the model\n",
    "y_pred = model.predict(X_val)\n",
    "mae = mean_absolute_error(y_val, y_pred)\n",
    "print(f\"Validation MAE: {mae:.2f}\")\n",
    "\n",
    "r2 = r2_score(y_val, y_pred)\n",
    "print(f\"Validation R² Score: {r2:.2f}\")"
   ]
  },
  {
   "cell_type": "markdown",
   "id": "dab0c4b9-cf94-4771-8d5d-a30b4c3ff128",
   "metadata": {},
   "source": [
    "This didnt give significant changes - lets try LGBMRegressor"
   ]
  },
  {
   "cell_type": "code",
   "execution_count": 9,
   "id": "fe0fa309-0edf-4c1a-9e75-da358fbaf057",
   "metadata": {},
   "outputs": [],
   "source": [
    "#pip install lightgbm[gpu]"
   ]
  },
  {
   "cell_type": "code",
   "execution_count": 10,
   "id": "4a3fe35d-52b5-480c-9aa3-3fc1d4a095b7",
   "metadata": {},
   "outputs": [
    {
     "name": "stderr",
     "output_type": "stream",
     "text": [
      "\n",
      "Dask dataframe query planning is disabled because dask-expr is not installed.\n",
      "\n",
      "You can install it with `pip install dask[dataframe]` or `conda install dask`.\n",
      "This will raise in a future version.\n",
      "\n"
     ]
    },
    {
     "name": "stdout",
     "output_type": "stream",
     "text": [
      "[LightGBM] [Info] Auto-choosing row-wise multi-threading, the overhead of testing was 0.159563 seconds.\n",
      "You can set `force_row_wise=true` to remove the overhead.\n",
      "And if memory is not enough, you can set `force_col_wise=true`.\n",
      "[LightGBM] [Info] Total Bins 1105\n",
      "[LightGBM] [Info] Number of data points in the train set: 58327370, number of used features: 6\n",
      "[LightGBM] [Info] Start training from score 1.126322\n",
      "[LightGBM] [Warning] No further splits with positive gain, best gain: -inf\n",
      "[LightGBM] [Warning] No further splits with positive gain, best gain: -inf\n",
      "Validation MAE: 1.03\n",
      "Validation R² Score: 0.68\n"
     ]
    }
   ],
   "source": [
    "# Import necessary libraries\n",
    "from lightgbm import LGBMRegressor\n",
    "from sklearn.metrics import mean_absolute_error, r2_score\n",
    "\n",
    "# Initialize and train the LightGBM model\n",
    "lgb_model = LGBMRegressor(n_estimators=500, learning_rate=0.05, max_depth=6)\n",
    "lgb_model.fit(X_train, y_train)\n",
    "\n",
    "# Make predictions on the validation set\n",
    "y_pred_lgb = lgb_model.predict(X_val)\n",
    "\n",
    "# Evaluate the model's performance\n",
    "mae = mean_absolute_error(y_val, y_pred_lgb)\n",
    "print(f\"Validation MAE: {mae:.2f}\")\n",
    "\n",
    "r2 = r2_score(y_val, y_pred_lgb)\n",
    "print(f\"Validation R² Score: {r2:.2f}\")"
   ]
  },
  {
   "cell_type": "markdown",
   "id": "2f5ec3d6-661f-4406-bfc9-75f86df3f09f",
   "metadata": {},
   "source": [
    "Without significant differeces again"
   ]
  }
 ],
 "metadata": {
  "kernelspec": {
   "display_name": "Python 3 (ipykernel)",
   "language": "python",
   "name": "python3"
  },
  "language_info": {
   "codemirror_mode": {
    "name": "ipython",
    "version": 3
   },
   "file_extension": ".py",
   "mimetype": "text/x-python",
   "name": "python",
   "nbconvert_exporter": "python",
   "pygments_lexer": "ipython3",
   "version": "3.12.8"
  }
 },
 "nbformat": 4,
 "nbformat_minor": 5
}
