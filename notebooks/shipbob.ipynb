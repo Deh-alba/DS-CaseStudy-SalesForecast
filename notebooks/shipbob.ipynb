{
 "cells": [
  {
   "cell_type": "code",
   "execution_count": 65,
   "id": "dc3e9a9d-eca9-45cb-a662-90d1ed90729f",
   "metadata": {},
   "outputs": [],
   "source": [
    "def shipbob(i, j):\n",
    "    # Check for the first number (i)\n",
    "    if i % 3 == 0 and i % 5 == 0:\n",
    "        print(\"ship and bob\")\n",
    "    elif i % 3 == 0:\n",
    "        print(\"ship\")\n",
    "    elif i % 5 == 0:\n",
    "        print(\"bob\")\n",
    "    \n",
    "    # Check for the second number (j)\n",
    "    if j % 3 == 0 and j % 5 == 0:\n",
    "        print(\"ship and bob\")\n",
    "    elif j % 3 == 0:\n",
    "        print(\"ship\")\n",
    "    elif j % 5 == 0:\n",
    "        print(\"bob\")"
   ]
  },
  {
   "cell_type": "code",
   "execution_count": 70,
   "id": "bcf856a0-1a24-4b89-aa4e-bae0fa64d4ec",
   "metadata": {},
   "outputs": [
    {
     "name": "stdout",
     "output_type": "stream",
     "text": [
      "bob\n",
      "ship and bob\n"
     ]
    }
   ],
   "source": [
    "shipbob(25,15)"
   ]
  },
  {
   "cell_type": "code",
   "execution_count": null,
   "id": "7fdc0d04-eb33-40fc-a57a-1bf01199a0d0",
   "metadata": {},
   "outputs": [],
   "source": []
  }
 ],
 "metadata": {
  "kernelspec": {
   "display_name": "Python 3 (ipykernel)",
   "language": "python",
   "name": "python3"
  },
  "language_info": {
   "codemirror_mode": {
    "name": "ipython",
    "version": 3
   },
   "file_extension": ".py",
   "mimetype": "text/x-python",
   "name": "python",
   "nbconvert_exporter": "python",
   "pygments_lexer": "ipython3",
   "version": "3.11.11"
  }
 },
 "nbformat": 4,
 "nbformat_minor": 5
}
